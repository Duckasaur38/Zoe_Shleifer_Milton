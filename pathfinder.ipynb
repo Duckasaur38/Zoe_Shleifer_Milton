{
 "cells": [
  {
   "cell_type": "code",
   "execution_count": 30,
   "metadata": {},
   "outputs": [
    {
     "name": "stdout",
     "output_type": "stream",
     "text": [
      "[[[], 'diagonal'], 'diagonal']\n",
      "[[[[], 'diagonal'], 'right'], 'down']\n",
      "[[[[], 'diagonal'], 'down'], 'right']\n",
      "[[[[], 'right'], 'diagonal'], 'down']\n",
      "[[[[[], 'right'], 'right'], 'down'], 'down']\n",
      "[[[[], 'right'], 'down'], 'diagonal']\n",
      "[[[[[], 'right'], 'down'], 'right'], 'down']\n",
      "[[[[[], 'right'], 'down'], 'down'], 'right']\n",
      "[[[[], 'down'], 'diagonal'], 'right']\n",
      "[[[[], 'down'], 'right'], 'diagonal']\n",
      "[[[[[], 'down'], 'right'], 'right'], 'down']\n",
      "[[[[[], 'down'], 'right'], 'down'], 'right']\n",
      "[[[[[], 'down'], 'down'], 'right'], 'right']\n"
     ]
    }
   ],
   "source": [
    "def path_lister(x, y, path):\n",
    "    if (x>=1) and (y>=1):\n",
    "        path_lister(x-1,y-1,[path,'diagonal'])\n",
    "        path_lister(x-1,y,[path,'right'])\n",
    "        path_lister(x,y-1,[path,'down'])\n",
    "        \n",
    "    elif x>=1:\n",
    "        path_lister(x-1,y,[path,'right'])\n",
    "\n",
    "    elif y>=1:\n",
    "        path_lister(x,y-1,[path,'down'])\n",
    "        \n",
    "    else:\n",
    "        print(path)\n",
    "path_lister(2,2,[])"
   ]
  },
  {
   "cell_type": "code",
   "execution_count": 46,
   "metadata": {},
   "outputs": [
    {
     "name": "stdout",
     "output_type": "stream",
     "text": [
      "[[[[], 'diagonal'], 'diagonal'], 8]\n",
      "[[[[[], 'right'], 'diagonal'], 'down'], 5]\n"
     ]
    }
   ],
   "source": [
    "test = [[1,2,3],[2,8,3],[12,4,0]]\n",
    "least_score = 1000\n",
    "least_path = []\n",
    "def path_finder(x,y,path,board,score):\n",
    "     global least_score \n",
    "    if score>least_score:\n",
    "        return;\n",
    "    if (x>=1) and (y>=1):\n",
    "        path_finder(x-1,y-1,[path,'diagonal'],board,score + board[x][y])\n",
    "        path_finder(x-1,y,[path,'right'],board,score + board[x][y])\n",
    "        path_finder(x,y-1,[path,'down'],board,score + board[x][y])\n",
    "        \n",
    "    elif x>=1:\n",
    "        path_finder(x-1,y,[path,'right'],board,score + board[x][y])\n",
    "\n",
    "    elif y>=1:\n",
    "        path_finder(x,y-1,[path,'down'],board,score + board[x][y])\n",
    "        \n",
    "    else:\n",
    "        least_score = score\n",
    "        print([path,score])\n",
    "path_finder(2,2,[],test,0)"
   ]
  },
  {
   "cell_type": "code",
   "execution_count": null,
   "metadata": {},
   "outputs": [],
   "source": []
  },
  {
   "cell_type": "code",
   "execution_count": null,
   "metadata": {},
   "outputs": [],
   "source": []
  }
 ],
 "metadata": {
  "kernelspec": {
   "display_name": "Python 3",
   "language": "python",
   "name": "python3"
  },
  "language_info": {
   "codemirror_mode": {
    "name": "ipython",
    "version": 3
   },
   "file_extension": ".py",
   "mimetype": "text/x-python",
   "name": "python",
   "nbconvert_exporter": "python",
   "pygments_lexer": "ipython3",
   "version": "3.7.6"
  }
 },
 "nbformat": 4,
 "nbformat_minor": 4
}

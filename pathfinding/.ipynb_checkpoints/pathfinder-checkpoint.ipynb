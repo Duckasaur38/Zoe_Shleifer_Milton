{
 "cells": [
  {
   "cell_type": "code",
   "execution_count": 1,
   "metadata": {},
   "outputs": [
    {
     "name": "stdout",
     "output_type": "stream",
     "text": [
      "[[[], 'diagonal'], 'diagonal']\n",
      "[[[[], 'diagonal'], 'right'], 'down']\n",
      "[[[[], 'diagonal'], 'down'], 'right']\n",
      "[[[[], 'right'], 'diagonal'], 'down']\n",
      "[[[[[], 'right'], 'right'], 'down'], 'down']\n",
      "[[[[], 'right'], 'down'], 'diagonal']\n",
      "[[[[[], 'right'], 'down'], 'right'], 'down']\n",
      "[[[[[], 'right'], 'down'], 'down'], 'right']\n",
      "[[[[], 'down'], 'diagonal'], 'right']\n",
      "[[[[], 'down'], 'right'], 'diagonal']\n",
      "[[[[[], 'down'], 'right'], 'right'], 'down']\n",
      "[[[[[], 'down'], 'right'], 'down'], 'right']\n",
      "[[[[[], 'down'], 'down'], 'right'], 'right']\n"
     ]
    }
   ],
   "source": [
    "def path_lister(x, y, path):\n",
    "    if (x>=1) and (y>=1):\n",
    "        path_lister(x-1,y-1,[path,'diagonal'])\n",
    "        path_lister(x-1,y,[path,'right'])\n",
    "        path_lister(x,y-1,[path,'down'])\n",
    "        \n",
    "    elif x>=1:\n",
    "        path_lister(x-1,y,[path,'right'])\n",
    "\n",
    "    elif y>=1:\n",
    "        path_lister(x,y-1,[path,'down'])\n",
    "        \n",
    "    else:\n",
    "        print(path)\n",
    "path_lister(2,2,[])"
   ]
  },
  {
   "cell_type": "code",
   "execution_count": 2,
   "metadata": {},
   "outputs": [
    {
     "name": "stdout",
     "output_type": "stream",
     "text": [
      "[[[[], 'diagonal'], 'diagonal'], 8]\n",
      "[[[[[], 'right'], 'diagonal'], 'down'], 5]\n"
     ]
    }
   ],
   "source": [
    "test = [[1,2,3],[2,8,3],[12,4,0]]\n",
    "least_score = 1000\n",
    "least_path = []\n",
    "def path_finder(x,y,path,board,score):\n",
    "    global least_score \n",
    "    if score>least_score:\n",
    "        return\n",
    "    if (x>=1) and (y>=1):\n",
    "        path_finder(x-1,y-1,[path,'diagonal'],board,score + board[x][y])\n",
    "        path_finder(x-1,y,[path,'right'],board,score + board[x][y])\n",
    "        path_finder(x,y-1,[path,'down'],board,score + board[x][y])\n",
    "        \n",
    "    elif x>=1:\n",
    "        path_finder(x-1,y,[path,'right'],board,score + board[x][y])\n",
    "\n",
    "    elif y>=1:\n",
    "        path_finder(x,y-1,[path,'down'],board,score + board[x][y])\n",
    "        \n",
    "    else:\n",
    "        least_score = score\n",
    "        print([path,score])\n",
    "path_finder(2,2,[],test,0)"
   ]
  },
  {
   "cell_type": "code",
   "execution_count": 12,
   "metadata": {},
   "outputs": [
    {
     "name": "stdout",
     "output_type": "stream",
     "text": [
      "[[[[[[], [2, 3]], [1, 3]], [1, 2]], [0, 1]], 18]\n",
      "[[[[[[], [2, 3]], [1, 3]], [0, 2]], [0, 1]], 18]\n",
      "[[[[[[[], [2, 3]], [1, 3]], [2, 2]], [1, 2]], [0, 1]], 18]\n",
      "[[[[[[[], [2, 3]], [2, 2]], [1, 2]], [0, 2]], [0, 1]], 16]\n",
      "[[[[[[], [2, 3]], [2, 2]], [1, 2]], [0, 1]], 13]\n",
      "[[[[[], [2, 3]], [1, 2]], [0, 1]], 13]\n"
     ]
    }
   ],
   "source": [
    "test = [[1,2,3,4],[2,8,3,5],[12,4,0,8]]\n",
    "least_score = 20\n",
    "least_path = []\n",
    "def path_finder_up(x,y,path,board,score):\n",
    "    width = len(board)-1\n",
    "    height = len(board[0])-1\n",
    "    global least_score \n",
    "    legal_moves = check_legal(x,y,width,height)\n",
    "    if score>least_score:\n",
    "        return;\n",
    "    if x==0 and y==0:\n",
    "        least_score = score\n",
    "        print([path,score])\n",
    "    else:\n",
    "        for move in legal_moves:\n",
    "            path_finder_up(x+move[0],y+move[1],[path,[x,y]],board,score+board[x][y])\n",
    "path_finder_up(2,3,[],test,0)"
   ]
  },
  {
   "cell_type": "code",
   "execution_count": 11,
   "metadata": {},
   "outputs": [
    {
     "data": {
      "text/plain": [
       "[[0, -1], [1, 0], [1, -1]]"
      ]
     },
     "execution_count": 11,
     "metadata": {},
     "output_type": "execute_result"
    }
   ],
   "source": [
    "def check_legal(x,y,w,h):\n",
    "    l = x < w\n",
    "    r = x > 0\n",
    "    u = y < h\n",
    "    d = y > 0\n",
    "    ru = r and u\n",
    "    rd = r and d\n",
    "    lu = l and u\n",
    "    ld = l and d\n",
    "    move_bools = [r,d,rd,l,u,lu,ld,ru]\n",
    "    all_moves =[[-1,0],[0,-1],[-1,-1],[1,0],[0,1],[1,1],[1,-1],[-1,1]]\n",
    "    legal_move =[]\n",
    "    for i in range(0,8):\n",
    "        if(move_bools[i]):\n",
    "            legal_move.append(all_moves[i])\n",
    "    return legal_move\n",
    "check_legal(-1,3,2,2)"
   ]
  },
  {
   "cell_type": "code",
   "execution_count": null,
   "metadata": {},
   "outputs": [],
   "source": []
  },
  {
   "cell_type": "code",
   "execution_count": null,
   "metadata": {},
   "outputs": [],
   "source": []
  }
 ],
 "metadata": {
  "kernelspec": {
   "display_name": "Python 3",
   "language": "python",
   "name": "python3"
  },
  "language_info": {
   "codemirror_mode": {
    "name": "ipython",
    "version": 3
   },
   "file_extension": ".py",
   "mimetype": "text/x-python",
   "name": "python",
   "nbconvert_exporter": "python",
   "pygments_lexer": "ipython3",
   "version": "3.7.6"
  }
 },
 "nbformat": 4,
 "nbformat_minor": 4
}
